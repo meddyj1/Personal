{
 "cells": [
  {
   "cell_type": "markdown",
   "id": "e65a1485",
   "metadata": {},
   "source": [
    "# **Topological Decoupling of Quasi-Periodic Videos**\n",
    "\n",
    " **Alpha Recio, Juan Rosete, and Michael Eddy** \n"
   ]
  },
  {
   "attachments": {
    "quasi_periodicity.gif": {
     "image/gif": "[encoded data removed]"
    }
   },
   "cell_type": "markdown",
   "id": "57281d56",
   "metadata": {},
   "source": [
    "![quasi_periodicity.gif](attachment:quasi_periodicity.gif)"
   ]
  },
  {
   "cell_type": "markdown",
   "id": "ba69fa86",
   "metadata": {},
   "source": [
    "<script type=\"text/javascript\" async\n",
    "  src=\"https://cdnjs.cloudflare.com/ajax/libs/mathjax/2.7.7/MathJax.js?config=TeX-MML-AM_CHTML\">\n",
    "</script>\n"
   ]
  },
  {
   "cell_type": "markdown",
   "id": "b2d5412f",
   "metadata": {},
   "source": [
    "[<center> <span style = \"font-size: 12px;\"> Figure: Quasi Periodicity - An Overview</span> <center><br>](https://www.sciencedirect.com/topics/engineering/quasi-periodicity)\n",
    "\n",
    "    "
   ]
  },
  {
   "cell_type": "markdown",
   "id": "24ad2255",
   "metadata": {},
   "source": [
    "## **Purpose**<br>\n",
    "\n",
    "In many areas of science, there exists objects whose motion can be described as quasi-periodic. Examples of such motion include musical compositions, fractal structures, and ocean waves, among others. As such, these objects are characterized by periodic functions with incommensurable frequency. Lying at the intersection of topology and data analysis, our work centers around isolating quasi-periodic movements found in video data. Specifically, the code below presents a chain of algorithms that, when given a video with $N$ independent oscillations, rearranges the frames in $N$ different ways such that for the $n$th video created, the $n$th oscillation will be in motion while the others remain stationary. In this file, we provide a walkthrough of a particular example of our work. "
   ]
  },
  {
   "cell_type": "markdown",
   "id": "2d65115b",
   "metadata": {},
   "source": [
    "\n",
    "## **Motivation** <br>\n",
    "The video below shows two quasi-periodic oscillations against a grey-scale background. We will aim to generate two videos in which one oscillation exhibits motion while the other remains relatively stationary.  "
   ]
  },
  {
   "cell_type": "code",
   "execution_count": 4,
   "id": "c2ec1fc7",
   "metadata": {},
   "outputs": [
    {
     "data": {
      "image/jpeg": "[encoded data removed]",
      "text/html": [
       "\n",
       "        <iframe\n",
       "            width=\"600\"\n",
       "            height=\"400\"\n",
       "            src=\"https://www.youtube.com/embed/AD570eD8Z3M\"\n",
       "            frameborder=\"0\"\n",
       "            allowfullscreen\n",
       "            \n",
       "        ></iframe>\n",
       "        "
      ],
      "text/plain": [
       "<IPython.lib.display.YouTubeVideo at 0x7fc80f8f4b50>"
      ]
     },
     "execution_count": 4,
     "metadata": {},
     "output_type": "execute_result"
    }
   ],
   "source": [
    "\n",
    "from IPython.display import YouTubeVideo\n",
    "\n",
    "YouTubeVideo(\"AD570eD8Z3M\", width=600, height=400)"
   ]
  },
  {
   "cell_type": "markdown",
   "id": "0484d155",
   "metadata": {},
   "source": [
    "<br/><br/>\n",
    "## **Reformatting the Data**\n",
    "\n",
    "To begin, we transform a video into an appropirate format for data analysis using the following process: \n",
    "1. Read in a video as collection of frames, where each frame is represented as a vector in the space $R^{(H*W)}$. (The dimensions $H$ and $W$ represent the height and width of all frames respectively.) \n",
    "2. Create a dataset matrix $X$ with dimensions $N*P*3$. (Each row $N$ in the matrix corresponds to the vector representation of a single frame while the number of columns $P$ represents the number of pixels per frame. The dimension \"$3$\" represents the RGB composition of a single pixel.)"
   ]
  },
  {
   "cell_type": "markdown",
   "id": "e990beb8",
   "metadata": {},
   "source": [
    "A problem that arises at this stage is that since a pixel of a frame is represented as a $1*3$ array, a vector representation of a frame becomes a nested lists with dimensions $(H*W)*3$, an unreadable format for algorithms that will follow. To account for this issue, our process proceeds with the subsequent step. "
   ]
  },
  {
   "cell_type": "markdown",
   "id": "0a7bf69f",
   "metadata": {},
   "source": [
    "3. Flatten the dimensions of each frame by converting it into a single list of dimensions $1*(H*W*3)$, which we denote as $M$. (With the adjusted matrix $X$, the dimensions are now in a readable format for next the next stage of our work involving the sliding-window algorithm.) "
   ]
  },
  {
   "cell_type": "code",
   "execution_count": null,
   "id": "2e31c499",
   "metadata": {},
   "outputs": [],
   "source": [
    "#Importing Neccessary Functions \n",
    "import numpy as np\n",
    "from PIL import Image\n",
    "import cv2\n",
    "import glob\n",
    "import os\n",
    "from pathlib import Path\n"
   ]
  },
  {
   "cell_type": "code",
   "execution_count": null,
   "id": "963b27c5",
   "metadata": {},
   "outputs": [],
   "source": [
    "#Video helper Function (Performs the steps outlined in the process above)\n",
    "def loadVideo(filepath):\n",
    "    vid = cv2.VideoCapture(filepath)\n",
    "    _, image = vid.read()\n",
    "    count = 0\n",
    "    success = True\n",
    "    global n_row, n_col\n",
    "    n_row, n_col, _ = image.shape \n",
    "    data = []\n",
    "    while success:\n",
    "        data.append(image.flatten()) \n",
    "        success,image = vid.read()\n",
    "        count += 1\n",
    "    vid.release() \n",
    "    data = np.array(data)\n",
    "    print(count, \" frames extracted\")\n",
    "    print(\"frame size = \", (n_row , n_col))\n",
    "    print(\"data shape =\", data.shape)\n",
    "    return data , (n_row, n_col)\n",
    "def writeVideo(filename, frame_data, fps, resol ):\n",
    "    n_row, n_col = resol\n",
    "    out = cv2.VideoWriter(filename, cv2.VideoWriter_fourcc(*'mp4v'), fps, (n_col, n_row))\n",
    "    if frame_data.dtype !='uint8':\n",
    "        frame_data -= np.amin(frame_data)\n",
    "        frame_data *= 255/np.amax(frame_data)\n",
    "        frame_data = np.uint8(frame_data)\n",
    "    for frame in frame_data:\n",
    "        out.write(frame.reshape((n_row, n_col,-1)))\n",
    "    out.release()"
   ]
  },
  {
   "cell_type": "code",
   "execution_count": null,
   "id": "9434080d",
   "metadata": {},
   "outputs": [],
   "source": [
    "#Initlizaing Variable Data, which represents the dataset matrix X\n",
    "data, shape = loadVideo(\"/Users/slmathuser/Documents/GitHub/TTSA-Project-3/dots_quasi.wmv\")\n",
    "#Note: If one would like to replicate our work, they must provide a video file path that exists in their computer"
   ]
  },
  {
   "cell_type": "markdown",
   "id": "4ee69df7",
   "metadata": {},
   "source": [
    "## **Detecting Quasi(Periodicity)** \n",
    "\n"
   ]
  },
  {
   "cell_type": "markdown",
   "id": "7382f2c2",
   "metadata": {},
   "source": [
    "A recurrence detection tool, we apply a sliding-window algorithm on the video matrix $X$ generated by the process above. For runtime purposes, we make window size $= 16$, the embedding dimension $= 3$, and the sample size $= 500$. In practice, one can manipulate these parameters as they so wish. However, they must keep in the mind that this may significantly effect runtime.\n",
    "\n",
    "The resulting output of this algorithm is a matrix with dimensions $j*k$, commonly referred to as the sliding window **point cloud**. (The dimensions $j$ and $k$ represent the total number of windows and total number of feautures of a window respectively. We note that feautures simply are all rgb values of every pixel within a frame.)  "
   ]
  },
  {
   "cell_type": "code",
   "execution_count": null,
   "id": "0f6ecdf9",
   "metadata": {},
   "outputs": [],
   "source": [
    "#Sliding Window Function (Performs Sliding Window on a given dataset matrix I with parameters dim, Tau, and dt.\n",
    "#They represent the embedding dimension, time-delay, and the sampling rate respectively.)\n",
    "\n",
    "from scipy import interpolate\n",
    "from scipy.interpolate import CubicSpline\n",
    "from matplotlib import pyplot as plt\n",
    "\n",
    "\n",
    "def getSlidingWindowVideo(I, dim, Tau, dT):\n",
    "    N = I.shape[0] #Number of frames\n",
    "    P = I.shape[1] #Number of pixels (possibly after PCA)\n",
    "    pix = np.arange(P)\n",
    "    NWindows = int(np.floor((N-dim*Tau)/dT))\n",
    "    X = np.zeros((NWindows, dim*P))\n",
    "    idx = np.arange(N)\n",
    "    for i in range(NWindows):\n",
    "        idxx = dT*i + Tau*np.arange(dim)\n",
    "        start = int(np.floor(idxx[0]))\n",
    "        end = int(np.ceil(idxx[-1]))\n",
    "        f = interpolate.interp2d(pix, idx[start:end+1], I[idx[start:end+1], :], kind='linear')\n",
    "        X[i, :] = f(pix, idxx).flatten()\n",
    "    return X"
   ]
  },
  {
   "cell_type": "code",
   "execution_count": null,
   "id": "4f97fd21",
   "metadata": {},
   "outputs": [],
   "source": [
    "#Performing Sliding Window Algorithm \n",
    "wSize = 16\n",
    "dim = 3\n",
    "Tau = wSize/float(dim)\n",
    "desiredSamples=500\n",
    "M = data.shape[0] - wSize + 1\n",
    "dT = M/float(desiredSamples)\n",
    "X = getSlidingWindowVideo(data, dim, Tau, dT)\n",
    "\n",
    "XS = X - np.mean(X, 1)[:, None]\n",
    "XS = XS/np.sqrt(np.sum(XS**2, 1))[:, None]\n",
    "\n",
    "#X = X - np.amin(X)\n",
    "#X = X/np.amax(X)\n",
    "#X = np.uint8(*255)\n",
    "frame_data = X[:, 0:data.shape[1]]\n",
    "\n",
    "print(\"The sliding-window algorithm produced %d windows, wherein each there\" \n",
    "      \" are %d flattened RGB value elements.\" % (X.shape[0], X.shape[1]))"
   ]
  },
  {
   "cell_type": "markdown",
   "id": "d74cf978",
   "metadata": {},
   "source": [
    "## **Principal Component Analysis**"
   ]
  },
  {
   "cell_type": "markdown",
   "id": "c56099c6",
   "metadata": {},
   "source": [
    "A data analytic technique, principal component analysis (PCA) is a tool used to reduce the dimensionality of a dataset while still preserving the most important information by finding the directions of maximum variance. Given that the generated sliding-window point cloud exists in a dimension unperceivable by the human eye, we can use principal component analysis (PCA) for visualization purposes! (In particular, it is necessary for visualizing the persistent cohomology classes detected by the point cloud, which will be discussed shortly.) "
   ]
  },
  {
   "cell_type": "code",
   "execution_count": null,
   "id": "f010fce9",
   "metadata": {},
   "outputs": [],
   "source": [
    "#plotting and visualization\n",
    "import plotly.graph_objects as go\n",
    "from plotly.subplots import make_subplots\n",
    "from sklearn.decomposition import PCA\n",
    "%matplotlib inline  "
   ]
  },
  {
   "cell_type": "code",
   "execution_count": null,
   "id": "8969a6bc",
   "metadata": {},
   "outputs": [],
   "source": [
    "# PCA of the Sliding window point cloud\n",
    "pca = PCA(n_components=5) #number of components can be manipulated by user\n",
    "XS_pca = pca.fit(XS).transform(XS)\n",
    "plt.figure(figsize = (3.8,1.5))\n",
    "plt.plot(pca.explained_variance_ratio_, '-*') ;\n",
    "plt.title('Explained PCA variance -Sliding Window'); #Plot displays the amount of variance captured by the first\n",
    "#n principal componenets"
   ]
  },
  {
   "cell_type": "markdown",
   "id": "004f1b47",
   "metadata": {},
   "source": [
    "The figure above displays the amount of variance captured by the first four principal components.   "
   ]
  },
  {
   "cell_type": "markdown",
   "id": "7ef28327",
   "metadata": {},
   "source": [
    "## **Ripser**"
   ]
  },
  {
   "cell_type": "markdown",
   "id": "6dcfc3f0",
   "metadata": {},
   "source": [
    "As a python package, **Ripser** provides an interface for computing the persistent co-homology of dense data sets and their persistence diagrams. It takes as input one of two things: a distance matrix of a sliding-window point cloud or a sliding-window point cloud that has had PCA applied to it. For our purposes, we concerned ourselves with the latter.\n",
    "\n",
    "Lets perform ripser below to identify the cohomology classes detected in the sliding-window point cloud. "
   ]
  },
  {
   "cell_type": "code",
   "execution_count": null,
   "id": "3bf2d3a0",
   "metadata": {
    "scrolled": true
   },
   "outputs": [],
   "source": [
    "from ripser import ripser \n",
    "from persim import plot_diagrams\n",
    "from sklearn.decomposition import PCA\n",
    "\n",
    "# Compute persistence diagrams of the pca vesion of the sliding window point cloud\n",
    "res = ripser(XS_pca, maxdim=2, n_perm =200, coeff =13, thresh = 0.9)\n",
    "dgms = res['dgms']\n",
    "plt.figure(figsize = (3,3)) \n",
    "plot_diagrams(dgms)"
   ]
  },
  {
   "cell_type": "markdown",
   "id": "7f8e41b3",
   "metadata": {},
   "source": [
    "From the persistence diagram, we are able to make two observations: \n",
    "1. Present in the point cloud are two one-dimensional holes, which are represnted by the two orange dots. \n",
    "2. Also present is a single two-dimensional hole, represented by the green dot.\n"
   ]
  },
  {
   "cell_type": "markdown",
   "id": "e79e4212",
   "metadata": {},
   "source": [
    "Fortunately, these results are what we desire. The reason why stems is as follows: **under appropriate parameters, the sliding-window point cloud of a quasi-periodic signal is dense in an $N$-Torus, which can be thought of as an $N$-dimensional hole.** \n",
    "\n",
    "Given the presence of a two-dimensional hole with the potential to represent a torus, $\\mathbb{T}^2$, we can conclude that there is a possibility that a quasiperiodic pattern was detected by the point cloud. This observation aligns with our initial expectations, considering the quasiperiodic nature of the video that was first introduced."
   ]
  },
  {
   "cell_type": "markdown",
   "id": "26a0c990",
   "metadata": {},
   "source": [
    "## **DREiMAC**"
   ]
  },
  {
   "cell_type": "markdown",
   "id": "ef1e83aa",
   "metadata": {},
   "source": [
    " Put briefly, the **DREiMAC** algorithm \"takes as input a point cloud together with a topological feauture (in the form of a persistent cohomology class), and returns a map from the point cloud to a well-understood space (a circle, a product of circles, a projective space, or a lens space), which preserves the given topological feauture in a precise sense\" (Perea, Soccola, and Tralie, 2020)\n",
    "\n",
    "Given that we primarily provide DREiMAC with topological feautures in the form of one-dimensional holes, the basis for this algorithm is grounded by the following **characterization theorem** of the first cohomology group $H^1$: let $X$ be a data set, $B$ a rips complex, $h^1$ a cohomology class, and $S^1$ the unit circle. Assigning a defined function $f:$ $B$ $\\rightarrow$ $S^1$ to $h^1$, we form a mapping determined by $h^1$ of the Rips complex to the unit circle represented by the interval $[0,2\\pi]$. \n",
    "\n",
    "Performing this procedure for all $h^1$ $\\epsilon$ $H^1$, we form a homeomorphism between the first cohomology group of the Rips Complex and the set of continuous maps $f$ from the rips complex to the unit circle. In notation form, we have\n",
    "\n",
    "**<center> $H^1$$(B,Z)$ $\\cong$ $[B,S^1]$<center>**"
   ]
  },
  {
   "cell_type": "markdown",
   "id": "7a83c5f1",
   "metadata": {},
   "source": [
    "With this theorem in mind, we proceed with describing the two ways in which DREiMAC was most useful to our work. "
   ]
  },
  {
   "cell_type": "markdown",
   "id": "e0e4587c",
   "metadata": {},
   "source": [
    "### **Point Cloud Visualization**"
   ]
  },
  {
   "cell_type": "markdown",
   "id": "53e31fa7",
   "metadata": {},
   "source": [
    "\n"
   ]
  },
  {
   "cell_type": "code",
   "execution_count": null,
   "id": "e1116df6",
   "metadata": {},
   "outputs": [],
   "source": [
    "#topological data analysis\n",
    "from persim import plot_diagrams\n",
    "from dreimac import CircularCoords \n",
    "from dreimac import CircleMapUtils as CMU\n"
   ]
  },
  {
   "cell_type": "code",
   "execution_count": null,
   "id": "9ae143f3",
   "metadata": {},
   "outputs": [],
   "source": [
    "n_lands = 450 #Here we have chosen 450, however, one can choose any value so long as it is \n",
    "#less than the sample size originally chosen for the sliding-window algorithm\n",
    "cc = CircularCoords(XS, n_landmarks=n_lands)"
   ]
  },
  {
   "cell_type": "code",
   "execution_count": 1,
   "id": "b31134d9",
   "metadata": {},
   "outputs": [
    {
     "ename": "NameError",
     "evalue": "name 'cc' is not defined",
     "output_type": "error",
     "traceback": [
      "\u001b[0;31m---------------------------------------------------------------------------\u001b[0m",
      "\u001b[0;31mNameError\u001b[0m                                 Traceback (most recent call last)",
      "Cell \u001b[0;32mIn[1], line 12\u001b[0m\n\u001b[1;32m      7\u001b[0m circular_coords \u001b[38;5;241m=\u001b[39m []\n\u001b[1;32m      9\u001b[0m \u001b[38;5;28;01mfor\u001b[39;00m i \u001b[38;5;129;01min\u001b[39;00m coho_classes:\n\u001b[1;32m     10\u001b[0m     \u001b[38;5;66;03m#perc: specifies the time in filtration to construct the coordinates \u001b[39;00m\n\u001b[1;32m     11\u001b[0m     \u001b[38;5;66;03m#cocyle_index: Picks a persistent homology class when the classes are ordered with respect to persistence\u001b[39;00m\n\u001b[0;32m---> 12\u001b[0m     theta \u001b[38;5;241m=\u001b[39m \u001b[43mcc\u001b[49m\u001b[38;5;241m.\u001b[39mget_coordinates(perc\u001b[38;5;241m=\u001b[39m \u001b[38;5;241m0\u001b[39m, cocycle_idx\u001b[38;5;241m=\u001b[39mi)\n\u001b[1;32m     13\u001b[0m     theta \u001b[38;5;241m=\u001b[39m CMU\u001b[38;5;241m.\u001b[39mto_sinebow(np\u001b[38;5;241m.\u001b[39mpi \u001b[38;5;241m+\u001b[39m CMU\u001b[38;5;241m.\u001b[39mcenter(theta))\n\u001b[1;32m     14\u001b[0m     circular_coords\u001b[38;5;241m.\u001b[39mappend(theta)\n",
      "\u001b[0;31mNameError\u001b[0m: name 'cc' is not defined"
     ]
    }
   ],
   "source": [
    "# Get the circular coordinates at birth, and for the 2 cocycles with highest persistence\n",
    "coho_classes=[]\n",
    "\n",
    "for i in range(2): \n",
    "    coho_classes.append(i)\n",
    "\n",
    "circular_coords = []\n",
    "\n",
    "for i in coho_classes:\n",
    "    #perc: specifies the time in filtration to construct the coordinates \n",
    "    #cocyle_index: Picks a persistent homology class when the classes are ordered with respect to persistence\n",
    "    theta = cc.get_coordinates(perc= 0, cocycle_idx=i)\n",
    "    theta = CMU.to_sinebow(np.pi + CMU.center(theta))\n",
    "    circular_coords.append(theta)"
   ]
  },
  {
   "cell_type": "code",
   "execution_count": null,
   "id": "108b4c0b",
   "metadata": {},
   "outputs": [],
   "source": [
    "# Plot data with N circular coordinates\n",
    "\n",
    "fig = make_subplots(rows=1, cols=len(coho_classes), \n",
    "                    subplot_titles = tuple('Circ Coord '+str(i+1) for i in coho_classes),\n",
    "                    specs = [[{'type': 'scatter3d'} for i in coho_classes]])\n",
    "\n",
    "for i, coord in enumerate(circular_coords):\n",
    "    fig.add_trace(\n",
    "        go.Scatter3d(x=XS_pca[:,0], y=XS_pca[:,1], z=XS_pca[:,2],   mode ='markers', \n",
    "        marker=dict(size = 2 , color =  circular_coords[i])),  \n",
    "        row=1, col=i+1)\n",
    "    fig.update_scenes(xaxis=dict( ticks='', showticklabels=False), \n",
    "                      yaxis=dict( ticks='', showticklabels=False), \n",
    "                      zaxis=dict( ticks='', showticklabels=False), \n",
    "                      aspectmode='data', row=1, col=i+1)\n",
    "\n",
    "fig.update_layout( showlegend=False )\n",
    "fig.show()"
   ]
  },
  {
   "cell_type": "markdown",
   "id": "ffc95226",
   "metadata": {},
   "source": [
    "The point clouds above correspond to the first and second cohomology classes with the highest persistence. Specifically, their coloring scheme results from the map $f$ of the Rips complex to the space $S^1$ as described by the characterization theorem. The color of a particular point corresponds to its location on the interval $[0,2\\pi]$ under this mapping.     \n",
    "\n",
    "Moving forward, it is important note the following: **each window has a corresponding point on the tori.** That is, the number of points used to generate the tori above exactly matches the number of windows produced by the sliding-window algorithm.    "
   ]
  },
  {
   "cell_type": "markdown",
   "id": "4eef974f",
   "metadata": {},
   "source": [
    "### **Sorting By Way of Circular Coordinates**"
   ]
  },
  {
   "cell_type": "markdown",
   "id": "2250f05f",
   "metadata": {},
   "source": [
    "For each point of the tori (i.e. a window), the DREiMAC algorithm assigns a set of values known as circular coordinates that exists on the interval [0,2&pi;]. This range results from the fact that such coordinates are commonly used to represent points on a circle or a sphere. \n",
    "\n",
    "The relevance to our work stems from the following fact: **a circular coordinate system is disinct in that it utilizes angles rather than traditional cartesian coordinates to describe the geometric position of a point relative to an origin.** "
   ]
  },
  {
   "cell_type": "code",
   "execution_count": null,
   "id": "5430ad75",
   "metadata": {},
   "outputs": [],
   "source": [
    "#Gathering Angle Values Corresponding to Cohomology Classes\n",
    "thetavals=[]\n",
    "for i in range(len(circular_coords)):\n",
    "    list=[]\n",
    "    for j in range(len(circular_coords[i])): \n",
    "        theta=circular_coords[i][j]\n",
    "        list.append(theta)\n",
    "    thetavals.append(list)\n",
    "    \n",
    "thetavals=np.array(thetavals)"
   ]
  },
  {
   "cell_type": "markdown",
   "id": "d368dbb4",
   "metadata": {},
   "source": [
    "Having gathered the coordinates of each cohomology class, we highlight an important idea: **the disentangling of oscillators through frame rearrangment aligns with the traversal of their tori in different ways**. By resequencing the points of the torus based on their sorted circular coordinates, we have the ability the change the arrangement of the sliding window algorithm's windows and, as a result, alter the order of video frames in our analysis. The natural question that arises is how exactly do we sort generated circular coordinates. In the lines that follow, we answer this question and provide the code that achieves this.       "
   ]
  },
  {
   "cell_type": "markdown",
   "id": "89dfaae4",
   "metadata": {},
   "source": [
    "We begin our sorting approach as follows: "
   ]
  },
  {
   "cell_type": "code",
   "execution_count": null,
   "id": "432e3dc7",
   "metadata": {},
   "outputs": [],
   "source": [
    "#Initialize an empty list wherein the indices of to be ordered theta values are stored\n",
    "sortedindexes=[] \n",
    "#Iterate over the nested lists contained in thetavals and **perform the np.argsort command** on them \n",
    "#(provides the indices of the theta values arranged from smallest to largest for each cohomology class)\n",
    "for j in range(len(thetavals)):\n",
    "    sortedidx=np.argsort(thetavals[j])\n",
    "    sortedindexes.append(sortedidx)"
   ]
  },
  {
   "cell_type": "markdown",
   "id": "9cdaec74",
   "metadata": {},
   "source": [
    "## **Averaging Overlapping Windows** \n"
   ]
  },
  {
   "cell_type": "markdown",
   "id": "031985f9",
   "metadata": {},
   "source": [
    "Depending on the parameters set when performing the sliding-window algorithm, one may have to resolve the issue posed by overlapping windows when creating a video. In particular, one must find a way to detect and compute the average of overlapping elements.  "
   ]
  },
  {
   "cell_type": "markdown",
   "id": "7693986d",
   "metadata": {},
   "source": [
    "To achieve this, our algorithm is guided by the following process:"
   ]
  },
  {
   "cell_type": "markdown",
   "id": "abe47126",
   "metadata": {},
   "source": [
    "1. We must create a new array, $Y$, of a proper format to create a video from it. However, its dimensions must match that of the original matrix, $X$. Therefore, we begin by iterating over the indices of $X$ to replicate its number of rows for $Y$.\n",
    "2. Within this iteration loop, initialize a new variable $X\\_sort$ which represents a sorted sliding window point cloud. The ordering of the windows are determined by the sorted indices of the ith cohomology class\n",
    "3. In the same loop, iterate over every window of $X\\_sort$ based on angles and check for overlaps. \n",
    "4. If there is no overlap, store the windows in a new sublist. If there is overlap, store the indices of overlapping windows in a separate sublist. \n",
    "5. After the loops finished, find the maximum value of overlapping indices to determine the last overlapped element for the next step. \n",
    "6. Iterate over the windows of overlapping indices and and calculate the averages of overlapping elements until you reached the index with maximum value. \n",
    "7. Store the averaged values in the sublists with non-overlapping windows to create a fledgling video matrix. \n",
    "8. From this matrix, take the first $60,000$ elements from each row and store them in chunks of size $3$ to replicate the RGB value composition of each pixel. \n",
    "9. Reshape the matrix, $Y$, to match the configurations and resolution of original video.\n",
    "10. Write two new videos displaying the relatively stationary movement of each oscillator independently."
   ]
  },
  {
   "cell_type": "markdown",
   "id": "0764cba2",
   "metadata": {},
   "source": [
    "Shown below is the implemented code that performs this process."
   ]
  },
  {
   "cell_type": "code",
   "execution_count": null,
   "id": "429a1619",
   "metadata": {},
   "outputs": [],
   "source": [
    "#Averaging Overlapping Windows (N Case)\n",
    "\n",
    "for i in range(2):\n",
    "    first_elements=[]\n",
    "    overlap_indices=[]\n",
    "    X_sort=X[sortedindexes[i]]\n",
    "    for j in range(len(X)):\n",
    "        sublist=[]\n",
    "        overlap_flag=False\n",
    "        for k in range(len(X_sort[j])): \n",
    "            sublist.append(X_sort[j][k])\n",
    "            if not overlap_flag:\n",
    "                if sublist.count(X_sort[i][j]) > 1:\n",
    "                    overlap_indices.append(j)\n",
    "                    overlap_flag = True\n",
    "        first_elements.append(sublist)\n",
    "    # Find the index where the overlapping elements end\n",
    "    overlap_end = max(overlap_indices)\n",
    "\n",
    "    # Calculate the average of the overlapping elements\n",
    "    overlap_avg = np.mean([sublist[:overlap_end] for sublist in first_elements], axis=0)\n",
    "\n",
    "    # Iterate over each sublist and replace the overlapping elements with the average\n",
    "    for sublist in first_elements:\n",
    "        sublist[:overlap_end] = overlap_avg\n",
    "\n",
    "    # Create fl as a list with each row containing 20,000 sub-sublists of size 3\n",
    "    fl = []\n",
    "    for sublist in first_elements:\n",
    "        sublist_chunks = [sublist[i:i+3] for i in range(0, len(sublist), 3)]\n",
    "        flattened_chunks = [item for sublist in sublist_chunks for item in sublist]  # Flatten the sublist chunks\n",
    "        fl.extend(flattened_chunks[:20000*3])  # Extend fl with flattened chunks\n",
    "\n",
    "    # Reshape fl to have the desired shape (*depends on desired samples*, 20000, 3)\n",
    "    fl_reshaped = np.array(fl).reshape((X.shape[0], (n_row*n_col), 3))\n",
    "\n",
    "    writeVideo(\"pilot_%i.mp4\" % (i), fl_reshaped, 5, (n_row,n_col))"
   ]
  },
  {
   "cell_type": "markdown",
   "id": "79f5cda3",
   "metadata": {},
   "source": [
    "## **Final Results**"
   ]
  },
  {
   "cell_type": "code",
   "execution_count": 5,
   "id": "489ba431",
   "metadata": {},
   "outputs": [
    {
     "data": {
      "text/html": [
       "\n",
       "        <iframe\n",
       "            width=\"600\"\n",
       "            height=\"400\"\n",
       "            src=\"https://www.youtube.com/embed/kkNruwyx2uc\"\n",
       "            frameborder=\"0\"\n",
       "            allowfullscreen\n",
       "            \n",
       "        ></iframe>\n",
       "        "
      ],
      "text/plain": [
       "<IPython.lib.display.YouTubeVideo at 0x7fc80fafe200>"
      ]
     },
     "execution_count": 5,
     "metadata": {},
     "output_type": "execute_result"
    }
   ],
   "source": [
    "YouTubeVideo(\"kkNruwyx2uc\", width=600, height=400)"
   ]
  },
  {
   "cell_type": "code",
   "execution_count": 6,
   "id": "a535b224",
   "metadata": {},
   "outputs": [
    {
     "data": {
      "text/html": [
       "\n",
       "        <iframe\n",
       "            width=\"600\"\n",
       "            height=\"400\"\n",
       "            src=\"https://www.youtube.com/embed/ky15nVeoOVc\"\n",
       "            frameborder=\"0\"\n",
       "            allowfullscreen\n",
       "            \n",
       "        ></iframe>\n",
       "        "
      ],
      "text/plain": [
       "<IPython.lib.display.YouTubeVideo at 0x7fc80fb2f400>"
      ]
     },
     "execution_count": 6,
     "metadata": {},
     "output_type": "execute_result"
    }
   ],
   "source": [
    "YouTubeVideo(\"ky15nVeoOVc\", width=600, height=400)"
   ]
  },
  {
   "cell_type": "markdown",
   "id": "512ac7fc",
   "metadata": {},
   "source": [
    "The videos above display our attempt to generate two videos in which one oscillator is moving while the other remains relatively stationary. "
   ]
  },
  {
   "cell_type": "markdown",
   "id": "d2b1b6d2",
   "metadata": {},
   "source": [
    "## **Next Steps**"
   ]
  },
  {
   "cell_type": "markdown",
   "id": "324bb4a5",
   "metadata": {},
   "source": [
    "As a walkthrough, we hope that this is able to provide the user with a solid understanding of our work. However, there is much progress to be made. Specificially, we challenge the user to explore the following: \n",
    "\n",
    "1. Explore different ways of traversing the torus and seeing how this effects oscillator movement.\n",
    "2. Discover a way to preserve the color scheme of the original video and its resolution.\n",
    "3. Implement code modifications that will allow for a faster runtime.\n",
    "4. For the extra curious, explore the application of our work to quasiperiodic solutions to the Kuramoto Sivashinsky equation"
   ]
  },
  {
   "cell_type": "markdown",
   "id": "4a921c32",
   "metadata": {},
   "source": [
    "## **Useful References**<br> \n",
    "\n",
    "[(Quasi)Periodicity Quantification in Video Data, Using Topology](https://arxiv.org/pdf/1704.08382.pdf) by Christopher J. Tralie and Jose A. Perea \n",
    "\n",
    "[DREiMac- Dimensionality Reduction with Eilenberg-MacLane Coordinates](https://scikit-tda.org/DREiMac/index.html) - Provides theoretical background of the DREiMac algorithm and several examples of its application.  \n",
    "\n",
    "[GitHub Repository](github.com/areciovaleri/TTSA-Project-3)- Repository that contains all code developed for our work\n",
    "\n",
    "[Kuramoto Sivashinsky Background](johncarlosbaez.wordpress.com/2021/10/17/conjectures-on-the-kuramoto-sevashinsky-equation/) - Article written by John Baez that provides background to the Kuramoto-Sivashinsky equation \n",
    "\n",
    "[Kuramamoto Sivashinsky Equation - Transition to Chaos (Richters Finger)](www.youtube.com/watch?v=YKi_PRMl0cE) -  Visual that displays the transition of a solution to the Kuramoto-Sivashinsky equation under various changing parameters "
   ]
  }
 ],
 "metadata": {
  "kernelspec": {
   "display_name": "Python 3 (ipykernel)",
   "language": "python",
   "name": "python3"
  },
  "language_info": {
   "codemirror_mode": {
    "name": "ipython",
    "version": 3
   },
   "file_extension": ".py",
   "mimetype": "text/x-python",
   "name": "python",
   "nbconvert_exporter": "python",
   "pygments_lexer": "ipython3",
   "version": "3.10.9"
  }
 },
 "nbformat": 4,
 "nbformat_minor": 5
}
